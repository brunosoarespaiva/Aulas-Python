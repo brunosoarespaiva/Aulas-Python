{
 "cells": [
  {
   "cell_type": "code",
   "execution_count": 1,
   "metadata": {},
   "outputs": [
    {
     "name": "stdout",
     "output_type": "stream",
     "text": [
      "Teste\n",
      "Soma: 5\n",
      "Subtracao: 5\n",
      "Multiplicacao: 0\n",
      "Dvisao por zero\n"
     ]
    }
   ],
   "source": [
    "# Primeiro programa em python 14/10/2023\n",
    "print (\"Teste\")\n",
    "\n",
    "n1 = 5\n",
    "n2 = 0\n",
    "\n",
    "Soma = 0\n",
    "Subtracao = 0\n",
    "Divisao = 0\n",
    "Multiplicacao = 0\n",
    "\n",
    "soma = n1 + n2\n",
    "print ('Soma:', soma)\n",
    "\n",
    "Subtracao = n1 - n2\n",
    "print ('Subtracao:', Subtracao)\n",
    "\n",
    "\n",
    "Multiplicacao = n1 * n2\n",
    "print ('Multiplicacao:', Multiplicacao)\n",
    "\n",
    "if (n1 == 0) or (n2 == 0):\n",
    "    print ('Dvisao por zero') \n",
    "\n",
    "else:  \n",
    "    Divisao = n1 / n2\n",
    "    print ('Divisao:', Divisao) \n"
   ]
  }
 ],
 "metadata": {
  "kernelspec": {
   "display_name": "Python 3",
   "language": "python",
   "name": "python3"
  },
  "language_info": {
   "codemirror_mode": {
    "name": "ipython",
    "version": 3
   },
   "file_extension": ".py",
   "mimetype": "text/x-python",
   "name": "python",
   "nbconvert_exporter": "python",
   "pygments_lexer": "ipython3",
   "version": "3.12.0"
  }
 },
 "nbformat": 4,
 "nbformat_minor": 2
}
